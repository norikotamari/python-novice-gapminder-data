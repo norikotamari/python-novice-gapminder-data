{
  "cells": [
    {
      "cell_type": "markdown",
      "metadata": {
        "id": "view-in-github",
        "colab_type": "text"
      },
      "source": [
        "<a href=\"https://colab.research.google.com/github/norikotamari/python-novice-gapminder-data/blob/main/python-intro.ipynb\" target=\"_parent\"><img src=\"https://colab.research.google.com/assets/colab-badge.svg\" alt=\"Open In Colab\"/></a>"
      ]
    },
    {
      "cell_type": "markdown",
      "source": [
        "# Intro to Python\n",
        "*** bold ****\n",
        "\n",
        "This is my first jupyter+colab notebook."
      ],
      "metadata": {
        "id": "_NzqBc8I3xcZ"
      }
    },
    {
      "cell_type": "code",
      "source": [
        " age = 33\n",
        " name = \"Megh\""
      ],
      "metadata": {
        "id": "T9TwpfNA4oMq"
      },
      "execution_count": 1,
      "outputs": []
    },
    {
      "cell_type": "code",
      "source": [
        "print(name, 'is', age, 'years old', '.')"
      ],
      "metadata": {
        "id": "l-i1tpRi5tzf",
        "outputId": "620927aa-be2b-4d02-9488-a3682a31ba21",
        "colab": {
          "base_uri": "https://localhost:8080/"
        }
      },
      "execution_count": 4,
      "outputs": [
        {
          "output_type": "stream",
          "name": "stdout",
          "text": [
            "Megh is 33 years old .\n"
          ]
        }
      ]
    },
    {
      "cell_type": "code",
      "source": [
        "last_name = \"Kris\"\n",
        "print (last_name)"
      ],
      "metadata": {
        "id": "ZC1HA-Cs68DP",
        "outputId": "a47504aa-722b-4b34-853b-14ad7c5b3cde",
        "colab": {
          "base_uri": "https://localhost:8080/"
        }
      },
      "execution_count": 6,
      "outputs": [
        {
          "output_type": "stream",
          "name": "stdout",
          "text": [
            "Kris\n"
          ]
        }
      ]
    },
    {
      "cell_type": "code",
      "source": [
        "print (name, \"will be\", age+10, \"in ten years.\")"
      ],
      "metadata": {
        "id": "39rcCDbS74jX",
        "outputId": "d8d8fcca-28ea-4e03-ce69-c8f8ab7c5604",
        "colab": {
          "base_uri": "https://localhost:8080/"
        }
      },
      "execution_count": 7,
      "outputs": [
        {
          "output_type": "stream",
          "name": "stdout",
          "text": [
            "Megh will be 43 in ten years.\n"
          ]
        }
      ]
    },
    {
      "cell_type": "code",
      "source": [
        "print (name[2])"
      ],
      "metadata": {
        "id": "cUxyaORt8RZL",
        "outputId": "f25e3f10-bbbf-457a-9329-860b57ac5030",
        "colab": {
          "base_uri": "https://localhost:8080/"
        }
      },
      "execution_count": 8,
      "outputs": [
        {
          "output_type": "stream",
          "name": "stdout",
          "text": [
            "g\n"
          ]
        }
      ]
    },
    {
      "cell_type": "code",
      "source": [
        "print (name[0])"
      ],
      "metadata": {
        "id": "-m-58CyG8tDm",
        "outputId": "836011a4-d1f3-456c-e30d-dc9f102e7f8b",
        "colab": {
          "base_uri": "https://localhost:8080/"
        }
      },
      "execution_count": 9,
      "outputs": [
        {
          "output_type": "stream",
          "name": "stdout",
          "text": [
            "M\n"
          ]
        }
      ]
    },
    {
      "cell_type": "code",
      "source": [
        "name_substring = name [0:2]\n",
        "print (name_substring)"
      ],
      "metadata": {
        "id": "xToPCCRn88HA",
        "outputId": "dad3f5f8-6fc9-40cd-948a-e35f753b6d34",
        "colab": {
          "base_uri": "https://localhost:8080/"
        }
      },
      "execution_count": 11,
      "outputs": [
        {
          "output_type": "stream",
          "name": "stdout",
          "text": [
            "Me\n"
          ]
        }
      ]
    },
    {
      "cell_type": "code",
      "source": [
        "length_name = len (name)"
      ],
      "metadata": {
        "id": "_pIA1fVN9yc9"
      },
      "execution_count": 13,
      "outputs": []
    },
    {
      "cell_type": "code",
      "source": [
        "print (length_name + 4)"
      ],
      "metadata": {
        "id": "ZLk2-PLN-HPL",
        "outputId": "ac08df78-5955-46c3-a71a-83e34b7019cd",
        "colab": {
          "base_uri": "https://localhost:8080/"
        }
      },
      "execution_count": 14,
      "outputs": [
        {
          "output_type": "stream",
          "name": "stdout",
          "text": [
            "8\n"
          ]
        }
      ]
    },
    {
      "cell_type": "code",
      "source": [
        "ddvpbkdb = 0"
      ],
      "metadata": {
        "id": "KgZCS3pF-fHb"
      },
      "execution_count": 22,
      "outputs": []
    },
    {
      "cell_type": "code",
      "source": [
        "ddvPbkdb = 5"
      ],
      "metadata": {
        "id": "MAdOMgjr-uM6"
      },
      "execution_count": 17,
      "outputs": []
    },
    {
      "cell_type": "code",
      "source": [
        "print(ddvpbkdb)"
      ],
      "metadata": {
        "id": "sMkHjwDy-0Dn",
        "outputId": "d840468e-114d-4de9-a78c-f63142d44e1b",
        "colab": {
          "base_uri": "https://localhost:8080/"
        }
      },
      "execution_count": 23,
      "outputs": [
        {
          "output_type": "stream",
          "name": "stdout",
          "text": [
            "0\n"
          ]
        }
      ]
    },
    {
      "cell_type": "code",
      "source": [
        "name = \"Meghkris\""
      ],
      "metadata": {
        "id": "cRnidXys_UZL"
      },
      "execution_count": 24,
      "outputs": []
    },
    {
      "cell_type": "code",
      "source": [
        "print (name)"
      ],
      "metadata": {
        "id": "5vkn31e5_Z-E",
        "outputId": "9473fcdb-fb12-498a-ba1e-a15a71a2c0b0",
        "colab": {
          "base_uri": "https://localhost:8080/"
        }
      },
      "execution_count": 25,
      "outputs": [
        {
          "output_type": "stream",
          "name": "stdout",
          "text": [
            "Meghkris\n"
          ]
        }
      ]
    },
    {
      "cell_type": "code",
      "source": [
        "type (age)"
      ],
      "metadata": {
        "id": "HClW_2hcAPM6",
        "outputId": "b6496e93-560b-427f-8ee5-cdebc945fe02",
        "colab": {
          "base_uri": "https://localhost:8080/"
        }
      },
      "execution_count": 27,
      "outputs": [
        {
          "output_type": "execute_result",
          "data": {
            "text/plain": [
              "int"
            ]
          },
          "metadata": {},
          "execution_count": 27
        }
      ]
    },
    {
      "cell_type": "code",
      "source": [
        "type (name)"
      ],
      "metadata": {
        "id": "SzudYgbbAXOI",
        "outputId": "b67ae7ff-5c76-43d3-b92b-0cc5e6c68418",
        "colab": {
          "base_uri": "https://localhost:8080/"
        }
      },
      "execution_count": 28,
      "outputs": [
        {
          "output_type": "execute_result",
          "data": {
            "text/plain": [
              "str"
            ]
          },
          "metadata": {},
          "execution_count": 28
        }
      ]
    },
    {
      "cell_type": "code",
      "source": [
        "new_age = 29\n",
        "print(new_age + 15)"
      ],
      "metadata": {
        "id": "YJ3NNhEiAw2l",
        "outputId": "ddce079e-e103-4450-a5f6-cf6059bb388b",
        "colab": {
          "base_uri": "https://localhost:8080/"
        }
      },
      "execution_count": 37,
      "outputs": [
        {
          "output_type": "stream",
          "name": "stdout",
          "text": [
            "44\n"
          ]
        }
      ]
    },
    {
      "cell_type": "code",
      "source": [
        "new_age = int(new_age)"
      ],
      "metadata": {
        "id": "cRgdevX7BaoK"
      },
      "execution_count": 35,
      "outputs": []
    },
    {
      "cell_type": "code",
      "source": [
        "new_age + 50"
      ],
      "metadata": {
        "id": "2QEIlkAnBm3w",
        "outputId": "735fd8dd-7189-468d-c644-35a8c8810859",
        "colab": {
          "base_uri": "https://localhost:8080/"
        }
      },
      "execution_count": 36,
      "outputs": [
        {
          "output_type": "execute_result",
          "data": {
            "text/plain": [
              "79"
            ]
          },
          "metadata": {},
          "execution_count": 36
        }
      ]
    },
    {
      "cell_type": "code",
      "source": [
        "num = 5.0923"
      ],
      "metadata": {
        "id": "-XBygiUVCalW"
      },
      "execution_count": 39,
      "outputs": []
    },
    {
      "cell_type": "code",
      "source": [
        "type(num)"
      ],
      "metadata": {
        "id": "5lX2L4JiCe2U",
        "outputId": "f36eaac9-7766-43a1-b339-6ac73d14c3f6",
        "colab": {
          "base_uri": "https://localhost:8080/"
        }
      },
      "execution_count": 40,
      "outputs": [
        {
          "output_type": "execute_result",
          "data": {
            "text/plain": [
              "float"
            ]
          },
          "metadata": {},
          "execution_count": 40
        }
      ]
    },
    {
      "cell_type": "code",
      "source": [
        "num - 0.857"
      ],
      "metadata": {
        "id": "7PwJT6w2CkE0",
        "outputId": "78b5366c-aae1-44b5-f2d6-d8b441032598",
        "colab": {
          "base_uri": "https://localhost:8080/"
        }
      },
      "execution_count": 41,
      "outputs": [
        {
          "output_type": "execute_result",
          "data": {
            "text/plain": [
              "4.2353"
            ]
          },
          "metadata": {},
          "execution_count": 41
        }
      ]
    },
    {
      "cell_type": "code",
      "source": [
        "num * 6"
      ],
      "metadata": {
        "id": "TyMopAEeCoyw",
        "outputId": "786c912c-de49-4782-e5b2-5cc1315c271c",
        "colab": {
          "base_uri": "https://localhost:8080/"
        }
      },
      "execution_count": 42,
      "outputs": [
        {
          "output_type": "execute_result",
          "data": {
            "text/plain": [
              "30.5538"
            ]
          },
          "metadata": {},
          "execution_count": 42
        }
      ]
    },
    {
      "cell_type": "code",
      "source": [
        "num / 0.5"
      ],
      "metadata": {
        "id": "S6apyFeuCwFn",
        "outputId": "a3a64dcc-2066-4e68-c74f-c304129f3ce3",
        "colab": {
          "base_uri": "https://localhost:8080/"
        }
      },
      "execution_count": 43,
      "outputs": [
        {
          "output_type": "execute_result",
          "data": {
            "text/plain": [
              "10.1846"
            ]
          },
          "metadata": {},
          "execution_count": 43
        }
      ]
    },
    {
      "cell_type": "code",
      "source": [
        "integer = 4\n",
        "print (integer / 3)"
      ],
      "metadata": {
        "id": "r8tRzsylC-Dl",
        "outputId": "00269e84-d785-4d59-e4b6-9a846d0e5ed2",
        "colab": {
          "base_uri": "https://localhost:8080/"
        }
      },
      "execution_count": 44,
      "outputs": [
        {
          "output_type": "stream",
          "name": "stdout",
          "text": [
            "1.3333333333333333\n"
          ]
        }
      ]
    },
    {
      "cell_type": "code",
      "source": [
        "type (integer / 3)"
      ],
      "metadata": {
        "id": "wTLLtmk1DHY-",
        "outputId": "18ca8db2-0173-477a-b4c7-26e929231d87",
        "colab": {
          "base_uri": "https://localhost:8080/"
        }
      },
      "execution_count": 45,
      "outputs": [
        {
          "output_type": "execute_result",
          "data": {
            "text/plain": [
              "float"
            ]
          },
          "metadata": {},
          "execution_count": 45
        }
      ]
    },
    {
      "cell_type": "code",
      "source": [
        "name + \".\""
      ],
      "metadata": {
        "id": "uYFgT-DdEGNi",
        "outputId": "206bcc8b-0c0d-4727-cae1-a598327dff80",
        "colab": {
          "base_uri": "https://localhost:8080/",
          "height": 35
        }
      },
      "execution_count": 46,
      "outputs": [
        {
          "output_type": "execute_result",
          "data": {
            "text/plain": [
              "'Meghkris.'"
            ],
            "application/vnd.google.colaboratory.intrinsic+json": {
              "type": "string"
            }
          },
          "metadata": {},
          "execution_count": 46
        }
      ]
    },
    {
      "cell_type": "code",
      "source": [
        "print(name, \".\")"
      ],
      "metadata": {
        "id": "ifjxgkNTETAz",
        "outputId": "41f6aa50-3174-4d49-a946-f8c68ad4cb17",
        "colab": {
          "base_uri": "https://localhost:8080/"
        }
      },
      "execution_count": 48,
      "outputs": [
        {
          "output_type": "stream",
          "name": "stdout",
          "text": [
            "Meghkris .\n"
          ]
        }
      ]
    },
    {
      "cell_type": "code",
      "source": [
        "print(name + \".\")"
      ],
      "metadata": {
        "id": "QZEdilf0EK4O",
        "outputId": "809feb79-9755-419b-f07b-720c45309082",
        "colab": {
          "base_uri": "https://localhost:8080/"
        }
      },
      "execution_count": 47,
      "outputs": [
        {
          "output_type": "stream",
          "name": "stdout",
          "text": [
            "Meghkris.\n"
          ]
        }
      ]
    },
    {
      "cell_type": "code",
      "source": [
        "# This sentence isn't executed by python.\n",
        "length_name = len (name)\n",
        "print (length_name +4) # This isn't either"
      ],
      "metadata": {
        "id": "bhmH4eWzIHNW",
        "outputId": "0f467968-d929-410b-d271-da5c6b293501",
        "colab": {
          "base_uri": "https://localhost:8080/"
        }
      },
      "execution_count": 49,
      "outputs": [
        {
          "output_type": "stream",
          "name": "stdout",
          "text": [
            "12\n"
          ]
        }
      ]
    }
  ],
  "metadata": {
    "colab": {
      "provenance": [],
      "include_colab_link": true
    },
    "language_info": {
      "name": "python"
    },
    "kernelspec": {
      "name": "python3",
      "display_name": "Python 3"
    }
  },
  "nbformat": 4,
  "nbformat_minor": 0
}