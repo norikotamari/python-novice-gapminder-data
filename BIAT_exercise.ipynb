{
  "cells": [
    {
      "cell_type": "markdown",
      "metadata": {
        "id": "view-in-github",
        "colab_type": "text"
      },
      "source": [
        "<a href=\"https://colab.research.google.com/github/norikotamari/python-novice-gapminder-data/blob/main/BIAT_exercise.ipynb\" target=\"_parent\"><img src=\"https://colab.research.google.com/assets/colab-badge.svg\" alt=\"Open In Colab\"/></a>"
      ]
    },
    {
      "cell_type": "markdown",
      "metadata": {
        "id": "V16pJ6-nbgPT"
      },
      "source": [
        "# Bring It All Together\n",
        "\n",
        "All thanks go to Sarah Stueve and Megh Krishnaswamy for their work on the notebook.\n",
        "\n",
        "The goal of this notebook is to exercise the acquired Python, git and Command Line knowledge obtained at the University of Arizona's Software Carpentries Spring workshop.\n",
        "\n",
        "We will be using Google Colab as it allows for the use of the Command Line as well as Python.\n",
        "\n",
        "The flow of this exercise is the is the following:\n",
        "\n",
        "1. Setup\n",
        "   - Open this Notebook in Google Colab\n",
        "   - Obtain the required `csv`\n",
        "   - Load the required packages\n",
        "2. Clean the imported `csv` and extract years\n",
        "3. Plot and visualize data\n",
        "   - Create a list\n",
        "   - Filtering\n",
        "   - Plotting\n",
        "4. Visualize text data\n",
        "5. Saving things in Git\n"
      ]
    },
    {
      "cell_type": "markdown",
      "metadata": {
        "id": "3jkZzl2gbgPZ"
      },
      "source": [
        "---\n",
        "\n",
        "## 1. Download, Import and Clean Data\n",
        "\n",
        "In the next cell, use a bash one-liner (`wget <raw github url>`) to download the dataset from the github repository into Google Colab's file system, and use the correct functions to import the raw csv file and index by country.\n",
        "\n",
        "To find the raw Github url for a file, click on the 'raw' button on the top right corner in the Github link to a file.\n",
        "\n",
        "![](https://raw.githubusercontent.com/CosiMichele/2503-carp-biat/main/github_raw_button.png)\n",
        "\n",
        "and get CSV file from a web url:"
      ]
    },
    {
      "cell_type": "code",
      "execution_count": 2,
      "metadata": {
        "id": "BjkskTpzFSPh",
        "outputId": "577d14fd-9b9a-4584-e110-ce9012be9a00",
        "colab": {
          "base_uri": "https://localhost:8080/"
        }
      },
      "outputs": [
        {
          "output_type": "stream",
          "name": "stdout",
          "text": [
            "--2025-03-23 22:21:19--  https://raw.githubusercontent.com/CosiMichele/2503-carp-biat/refs/heads/main/gapminder_all.csv\n",
            "Resolving raw.githubusercontent.com (raw.githubusercontent.com)... 185.199.108.133, 185.199.109.133, 185.199.110.133, ...\n",
            "Connecting to raw.githubusercontent.com (raw.githubusercontent.com)|185.199.108.133|:443... connected.\n",
            "HTTP request sent, awaiting response... 200 OK\n",
            "Length: 49082 (48K) [text/plain]\n",
            "Saving to: ‘gapminder_all.csv’\n",
            "\n",
            "\rgapminder_all.csv     0%[                    ]       0  --.-KB/s               \rgapminder_all.csv   100%[===================>]  47.93K  --.-KB/s    in 0.01s   \n",
            "\n",
            "2025-03-23 22:21:19 (3.91 MB/s) - ‘gapminder_all.csv’ saved [49082/49082]\n",
            "\n"
          ]
        }
      ],
      "source": [
        "!wget https://raw.githubusercontent.com/CosiMichele/2503-carp-biat/refs/heads/main/gapminder_all.csv"
      ]
    },
    {
      "cell_type": "markdown",
      "metadata": {
        "id": "A9R583KUbgPX"
      },
      "source": [
        "---\n",
        "\n",
        "## 2. Import required packages and data"
      ]
    },
    {
      "cell_type": "code",
      "execution_count": 3,
      "metadata": {
        "id": "wans9dWYbgPY"
      },
      "outputs": [],
      "source": [
        "# Use this cell to load packages (pandas and matplotlib)\n",
        "\n",
        "import pandas as pd\n",
        "import matplotlib as plt"
      ]
    },
    {
      "cell_type": "code",
      "execution_count": 4,
      "metadata": {
        "id": "ROakOqACbgPZ"
      },
      "outputs": [],
      "source": [
        "# Import the data and set index\n",
        "\n",
        "raw_data = pd.read_csv(\"gapminder_all.csv\")"
      ]
    },
    {
      "cell_type": "markdown",
      "metadata": {
        "id": "tITh1F7_bgPZ"
      },
      "source": [
        "### 2.1 Use the right function to drop the `continent` column."
      ]
    },
    {
      "cell_type": "code",
      "execution_count": null,
      "metadata": {
        "id": "DE_QAY2hbgPZ"
      },
      "outputs": [],
      "source": [
        "data = raw_data.<insert code>"
      ]
    },
    {
      "cell_type": "markdown",
      "metadata": {
        "id": "1MT3dQYQbgPa"
      },
      "source": [
        "### 2.2 Filter the columns\n",
        "\n",
        "When filtering columns, you can use `data.drop(columns=data.filter(like=\"<column to drop>\").columns)`. Here, `like` is used to search for a string in the column name, and `filter` removes all matches.\n",
        "\n",
        "In the next 2 cells, first filter the `lifeExp_` column and the the `pop_` column."
      ]
    },
    {
      "cell_type": "code",
      "execution_count": null,
      "metadata": {
        "id": "AsQaKKShbgPa"
      },
      "outputs": [],
      "source": [
        "data = data.<insert code>"
      ]
    },
    {
      "cell_type": "code",
      "execution_count": null,
      "metadata": {
        "id": "h0zqswXvbgPa"
      },
      "outputs": [],
      "source": [
        "data = data.<insert code>"
      ]
    },
    {
      "cell_type": "markdown",
      "metadata": {
        "id": "StAntv6nbgPa"
      },
      "source": [
        "### 2.3 Print index\n",
        "\n",
        "In order to continue, you will need to use the correct format for each country's name (as they appear in data frame). In the next cell, use a `for` loop to print the index (that in this case, is the countries)."
      ]
    },
    {
      "cell_type": "code",
      "execution_count": null,
      "metadata": {
        "id": "sDKbmgTYbgPb"
      },
      "outputs": [],
      "source": [
        "for i in data.index:\n",
        "    <insert code>"
      ]
    },
    {
      "cell_type": "markdown",
      "metadata": {
        "id": "saW4hFVIbgPb"
      },
      "source": [
        "### 2.4 Extract years\n",
        "\n",
        "Extract year from last 4 characters of each column name.\n",
        "\n",
        "The current column names are structured as `gdpPercap_(year)`, so we want to keep the `(year)` part only for clarity when plotting GDP vs. years.\n",
        "\n",
        "To do this we use `replace()`, which removes from the string the characters stated in the argument. This method works on strings, so we use `replace()` from Pandas Series.str vectorized string functions."
      ]
    },
    {
      "cell_type": "code",
      "execution_count": null,
      "metadata": {
        "id": "aouDudptbgPb"
      },
      "outputs": [],
      "source": [
        "years = data.<insert code>\n",
        "\n",
        "# Convert year values to integers, saving results back to dataframe\n",
        "\n",
        "data.columns = years.<insert code>"
      ]
    },
    {
      "cell_type": "markdown",
      "metadata": {
        "id": "ZryIJghybgPc"
      },
      "source": [
        "---\n",
        "\n",
        "## 3 Visualizing Numerical Data: Listing and Plotting\n",
        "\n",
        "In the next cell, select a country to plot."
      ]
    },
    {
      "cell_type": "code",
      "execution_count": null,
      "metadata": {
        "id": "llYCChc_bgPc"
      },
      "outputs": [],
      "source": [
        "\n",
        "data.<insert code>"
      ]
    },
    {
      "cell_type": "markdown",
      "metadata": {
        "id": "XH-WOxgfbgPc"
      },
      "source": [
        "### 3.1 Create a list\n",
        "\n",
        "Compare 5 countries of your choice. Create a list of countries that you are interested in."
      ]
    },
    {
      "cell_type": "code",
      "execution_count": null,
      "metadata": {
        "id": "x5Zq6xU5bgPc"
      },
      "outputs": [],
      "source": [
        "sel_countries = [<insert countries>]"
      ]
    },
    {
      "cell_type": "markdown",
      "metadata": {
        "id": "pv7X5xi2bgPd"
      },
      "source": [
        "### 3.2 Use index.isin() to filter\n",
        "\n",
        "`.isin(sel_countries)` checks whether each value in the index is present in the list `sel_countries`. Make sure to save to a different dataframe."
      ]
    },
    {
      "cell_type": "code",
      "execution_count": null,
      "metadata": {
        "id": "q_c0O79LbgPd"
      },
      "outputs": [],
      "source": [
        "data_countries = data[<insert code>]"
      ]
    },
    {
      "cell_type": "markdown",
      "metadata": {
        "id": "PWRpv219FSPj"
      },
      "source": [
        "Plot the data. Use \"GDP per capita\" as x-axis label, \"years\" as y-axis label, and save the image with dpi=300."
      ]
    },
    {
      "cell_type": "code",
      "execution_count": null,
      "metadata": {
        "id": "yRJ219c1bgPd"
      },
      "outputs": [],
      "source": [
        "data_countries.T.plot()\n",
        "plt.ylabel('GDP per capita')\n",
        "plt.xlabel('years')\n",
        "plt.savefig(\"countries_comparison.png\", dpi=300)"
      ]
    },
    {
      "cell_type": "markdown",
      "metadata": {
        "id": "ruPfeg4ZbgPe"
      },
      "source": [
        "---\n",
        "## 4 Visualizing Text Data: Plotting and Representing Frequency Distributions\n",
        "\n",
        "For data distributed continuously, plots are straighforward to generate. But what about **strings**?\n",
        "\n",
        "Let's say you want to find out how many countries there are in each continent. For this, we need to access the `continent` column in each row, and count how many rows each continent bin contains. This allows us numerical data from strings, that can then be plotted.\n"
      ]
    },
    {
      "cell_type": "markdown",
      "metadata": {
        "id": "vOd3WFfehaar"
      },
      "source": [
        "### 4.1 Using the right data"
      ]
    },
    {
      "cell_type": "code",
      "execution_count": null,
      "metadata": {
        "id": "i5qoaCZngbYL"
      },
      "outputs": [],
      "source": [
        "print(raw_data.head(), \"\\n\")"
      ]
    },
    {
      "cell_type": "code",
      "execution_count": null,
      "metadata": {
        "id": "QAn0ueIBhOKg"
      },
      "outputs": [],
      "source": [
        "print(data.head())"
      ]
    },
    {
      "cell_type": "markdown",
      "metadata": {
        "id": "9lONVfLigbLK"
      },
      "source": [
        "Can we use the filtered dataframe we created in Step 2? Why/Why not?"
      ]
    },
    {
      "cell_type": "markdown",
      "metadata": {
        "id": "kSjNLTjRh3m2"
      },
      "source": [
        "### 4.2 What are the continent names in this dataframe?"
      ]
    },
    {
      "cell_type": "markdown",
      "metadata": {
        "id": "BIR7IU20h-Cl"
      },
      "source": [
        "Multiple countries can belong to the same continent. And so, the values in the column `continent` is repeated.\n",
        "\n",
        "If we want to find out which continents are listed in the dataframe, we only need to list each possible value in the column `continent` once, i.e., unique values in the column.\n",
        "\n",
        "We use the function `<dataframe>['col_name'].unique()` for this:"
      ]
    },
    {
      "cell_type": "code",
      "execution_count": null,
      "metadata": {
        "id": "w-W8xB7zi0Xi"
      },
      "outputs": [],
      "source": [
        "# Print unique values in the column\n",
        "continents = raw_data[<insert col name>].unique()\n",
        "print(continents)\n"
      ]
    },
    {
      "cell_type": "markdown",
      "metadata": {
        "id": "1SdOa7aFjF_P"
      },
      "source": [
        "How many continents are present in this dataframe? Are any continents missing?"
      ]
    },
    {
      "cell_type": "markdown",
      "metadata": {
        "id": "0v8Lz90CkAh4"
      },
      "source": [
        "### 4.2 Filtering rows by continent:"
      ]
    },
    {
      "cell_type": "markdown",
      "metadata": {
        "id": "fWQ1rIfLkNlM"
      },
      "source": [
        "Create a list of continents you want to plot:"
      ]
    },
    {
      "cell_type": "code",
      "execution_count": null,
      "metadata": {
        "id": "eGyGdu0xkIWE"
      },
      "outputs": [],
      "source": [
        "# Filter the DataFrame to keep only specified continents\n",
        "allowed_continents = [<insert continents>]"
      ]
    },
    {
      "cell_type": "markdown",
      "metadata": {
        "id": "HwgkmUTrFSPm"
      },
      "source": [
        "Filter data using `.isin()`."
      ]
    },
    {
      "cell_type": "code",
      "execution_count": null,
      "metadata": {
        "id": "80cWQjcPkNFa"
      },
      "outputs": [],
      "source": [
        "filtered_data = raw_data[<insert code>]\n"
      ]
    },
    {
      "cell_type": "markdown",
      "metadata": {
        "id": "Wd0LNNCchj1K"
      },
      "source": [
        "### 4.3 Counting Countries in each continent"
      ]
    },
    {
      "cell_type": "markdown",
      "metadata": {
        "id": "gUkucvPhjNB4"
      },
      "source": [
        "Next, we want to use the column `continent`, and count how many rows a given continent name is observed in. This gives us a frequency distribition!\n",
        "\n",
        "For this, we use the `.value_counts())` function:"
      ]
    },
    {
      "cell_type": "code",
      "execution_count": null,
      "metadata": {
        "id": "9f5uO1mUjmQx"
      },
      "outputs": [],
      "source": [
        "# Print frequency table for each continent in the filtered dataframe\n",
        "filtered_continent_freq_distr = filtered_data[<insert column>].value_counts()\n",
        "<insert code>\n"
      ]
    },
    {
      "cell_type": "code",
      "execution_count": null,
      "metadata": {
        "id": "HiqciJM3juOX"
      },
      "outputs": [],
      "source": [
        "# Print frequency table for each continent in the raw dataframe\n",
        "raw_continent_freq_distr = raw_data[<insert columns>].value_counts()\n",
        "<insert code>"
      ]
    },
    {
      "cell_type": "markdown",
      "metadata": {
        "id": "UVEr3fuZkzQ4"
      },
      "source": [
        "This allows us to also check if our  filter worked correctly."
      ]
    },
    {
      "cell_type": "markdown",
      "metadata": {
        "id": "ke2bYU1GkzMq"
      },
      "source": [
        "### 4.4 Visualising word frequencies with Bar Plots\n",
        "\n",
        "We will now use the frequency distributions saved in the variables `filtered_continent_freq_distr` and `raw_continent_freq_distr` to count represent how many countries each continent has.\n",
        "\n",
        "Plot the data. Use \"Continent\" as x-axis label, \"Frequency\" as y-axis label, and save the image with dpi=300. Add a title if you want!"
      ]
    },
    {
      "cell_type": "code",
      "execution_count": null,
      "metadata": {
        "id": "vgOXBPxWkvBd"
      },
      "outputs": [],
      "source": [
        "# Generate bar plot for continent frequency in filtered dataframe:\n",
        "filtered_continent_freq_distr.plot(kind='bar')\n",
        "plt.xlabel(<insert desrcription>)\n",
        "plt.ylabel(<insert desrcription>)\n",
        "plt.title(<insert desrcription>)\n",
        "plt.savefig(<insert desrcription>, dpi=300)"
      ]
    },
    {
      "cell_type": "code",
      "execution_count": null,
      "metadata": {
        "id": "rdZmw3dZpijX"
      },
      "outputs": [],
      "source": [
        "# use the code above to generate a bar plot for all continents:\n",
        "# Generate bar plot for continent frequency in filtered dataframe:\n",
        "raw_continent_freq_distr.plot(kind='bar')\n",
        "plt.xlabel(<insert desrcription>)\n",
        "plt.ylabel(<insert desrcription>)\n",
        "plt.title(<insert desrcription>)\n",
        "plt.savefig(<insert desrcription>, dpi=300)"
      ]
    },
    {
      "cell_type": "markdown",
      "metadata": {
        "id": "iMuBXAoZlYkr"
      },
      "source": [
        "### 4.5 Visualising word frequencies with Wordclouds\n"
      ]
    },
    {
      "cell_type": "markdown",
      "metadata": {
        "id": "rsw7h4otleqC"
      },
      "source": [
        "Wordclouds are a fun tool to visualise how frequently a set of strings appear in a dataset. More frequent strings will be larger in size.\n",
        "\n",
        "For this we will import the `wordcloud` python library, and the frequency distributions we printed in 4.3:"
      ]
    },
    {
      "cell_type": "code",
      "execution_count": null,
      "metadata": {
        "id": "3yz_ZJiPlPqT"
      },
      "outputs": [],
      "source": [
        "from wordcloud import WordCloud"
      ]
    },
    {
      "cell_type": "code",
      "execution_count": null,
      "metadata": {
        "id": "FB7JrjVNlyZJ"
      },
      "outputs": [],
      "source": [
        "filtered_wordcloud = WordCloud(width=500, height=500,\n",
        "                      background_color='white').generate_from_frequencies(\n",
        "                       filtered_continent_freq_distr)"
      ]
    },
    {
      "cell_type": "code",
      "execution_count": null,
      "metadata": {
        "id": "rT68d75Pl4O2"
      },
      "outputs": [],
      "source": [
        "# Display the word cloud\n",
        "plt.figure(figsize=(10, 5))\n",
        "plt.imshow(filtered_wordcloud)\n",
        "plt.axis('off')\n",
        "plt.savefig(\"continents_comparison_wordcloud.png\", dpi=300)"
      ]
    },
    {
      "cell_type": "markdown",
      "metadata": {
        "id": "2nZjrsA9oaCU"
      },
      "source": [
        "### Which continent has the most countries?"
      ]
    },
    {
      "cell_type": "markdown",
      "metadata": {
        "id": "wA-X8RW1FSPn"
      },
      "source": [
        "---\n",
        "\n",
        "## 5. Save your change to Github\n",
        "\n",
        "To save your changes to Github, you do not require to use the command line. Instead, use the button on top of the page to save to a repository of your choice.\n",
        "\n",
        "![](https://raw.githubusercontent.com/CosiMichele/2503-carp-biat/refs/heads/main/save-in-git.png)\n",
        "\n",
        "![](https://raw.githubusercontent.com/CosiMichele/2503-carp-biat/refs/heads/main/save-in-git2.png)\n",
        "\n",
        "---\n",
        "\n",
        "## 6. In your computer, pull or clone the repository using git commands and open and potentially saved image.\n",
        "\n",
        "...aaaaand you're done!\n",
        "\n",
        "Thank you for taking part to this workshop! It's been a pleasure having you <3"
      ]
    }
  ],
  "metadata": {
    "colab": {
      "provenance": [],
      "include_colab_link": true
    },
    "kernelspec": {
      "display_name": "Python 3",
      "name": "python3"
    },
    "language_info": {
      "codemirror_mode": {
        "name": "ipython",
        "version": 3
      },
      "file_extension": ".py",
      "mimetype": "text/x-python",
      "name": "python",
      "nbconvert_exporter": "python",
      "pygments_lexer": "ipython3",
      "version": "3.12.9"
    }
  },
  "nbformat": 4,
  "nbformat_minor": 0
}